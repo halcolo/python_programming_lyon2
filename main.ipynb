{
 "cells": [
  {
   "cell_type": "code",
   "execution_count": 1,
   "metadata": {},
   "outputs": [],
   "source": [
    "import logging\n",
    "import os\n",
    "import config   \n",
    "from ipywidgets import widgets\n",
    "from modules.corpus import Corpus\n",
    "from program import setup_process\n",
    "from utils.tools import show_metrics"
   ]
  },
  {
   "cell_type": "code",
   "execution_count": 2,
   "metadata": {},
   "outputs": [],
   "source": [
    "path = os.path.dirname(os.getcwd())\n",
    "data_path = os.path.join(path, 'data')\n",
    "collection = list()\n"
   ]
  },
  {
   "cell_type": "markdown",
   "metadata": {},
   "source": [
    "# Set Reddit data \n",
    "Please run following cell, if you want to change key word run again after make changes in the input."
   ]
  },
  {
   "cell_type": "code",
   "execution_count": 3,
   "metadata": {},
   "outputs": [
    {
     "data": {
      "application/vnd.jupyter.widget-view+json": {
       "model_id": "7e97d1630e034b7da83c7bcb9010ec23",
       "version_major": 2,
       "version_minor": 0
      },
      "text/plain": [
       "Text(value='MachineLearning')"
      ]
     },
     "metadata": {},
     "output_type": "display_data"
    }
   ],
   "source": [
    "subreddit = widgets.Text(value='MachineLearning')\n",
    "display(subreddit)"
   ]
  },
  {
   "cell_type": "code",
   "execution_count": 4,
   "metadata": {},
   "outputs": [
    {
     "name": "stdout",
     "output_type": "stream",
     "text": [
      "Reddit --------------------\n",
      "GETTING REDDIT DATA\n",
      "[================================================= ] 99%  Reddit process"
     ]
    }
   ],
   "source": [
    "# RUN THIS AFTER THE SUBREDDIT SELECTION\n",
    "collection += setup_process(\n",
    "    type='reddit', \n",
    "    key_word=subreddit.value\n",
    "    )"
   ]
  },
  {
   "cell_type": "markdown",
   "metadata": {},
   "source": [
    "# Set Arxiv data \n",
    "Please run following cell, if you want to change key word run again after make changes in the input."
   ]
  },
  {
   "cell_type": "code",
   "execution_count": 5,
   "metadata": {},
   "outputs": [
    {
     "data": {
      "application/vnd.jupyter.widget-view+json": {
       "model_id": "08ff64e371214ac4a97c14eee68444a0",
       "version_major": 2,
       "version_minor": 0
      },
      "text/plain": [
       "Text(value='machine learning')"
      ]
     },
     "metadata": {},
     "output_type": "display_data"
    }
   ],
   "source": [
    "arxiv_kw = widgets.Text(value='machine learning')\n",
    "display(arxiv_kw)"
   ]
  },
  {
   "cell_type": "code",
   "execution_count": 6,
   "metadata": {},
   "outputs": [
    {
     "name": "stdout",
     "output_type": "stream",
     "text": [
      "Reddit --------------------\n",
      "GETTING ARXIV DATA\n",
      "[================================================= ] 99%  Arxiv process"
     ]
    }
   ],
   "source": [
    "# RUN THIS AFTER ARXIV KEYWORD SELECTION\n",
    "collection += setup_process(\n",
    "    type='arxiv', \n",
    "    key_word=arxiv_kw.value\n",
    "    )"
   ]
  },
  {
   "cell_type": "markdown",
   "metadata": {},
   "source": [
    "# GET DATA STATISTICS"
   ]
  },
  {
   "cell_type": "code",
   "execution_count": 7,
   "metadata": {},
   "outputs": [
    {
     "name": "stdout",
     "output_type": "stream",
     "text": [
      "Data manipulation --------------------\n",
      "Corpus Length: 4869\n",
      "Number of words: 122.42719244197987\n",
      "Average phrases: 7.076812487163688\n",
      "Total words: 596098\n",
      "Total long docs: 4756\n"
     ]
    }
   ],
   "source": [
    "\n",
    "try:\n",
    "    corpus = Corpus()\n",
    "\n",
    "    for doc in collection:\n",
    "        for auth in doc.author:\n",
    "            corpus.add(author=auth , doc=doc)\n",
    "            \n",
    "    # Save results\n",
    "    file_name = f'reddit_arvix_{subreddit}'\n",
    "    corpus.save_file(data_path, file_name)\n",
    "    data = corpus.load_file(os.path.join(data_path, 'data_%s.csv' % file_name ))\n",
    "    \n",
    "    # Show metrics using document generated\n",
    "    show_metrics(data)\n",
    "    \n",
    "except TypeError as t:\n",
    "    logging.error(t)\n",
    "    raise TypeError\n",
    "except ValueError as v:\n",
    "    logging.error(v)\n",
    "    raise ValueError"
   ]
  }
 ],
 "metadata": {
  "kernelspec": {
   "display_name": "python_lyon2",
   "language": "python",
   "name": "python3"
  },
  "language_info": {
   "codemirror_mode": {
    "name": "ipython",
    "version": 3
   },
   "file_extension": ".py",
   "mimetype": "text/x-python",
   "name": "python",
   "nbconvert_exporter": "python",
   "pygments_lexer": "ipython3",
   "version": "3.10.10"
  }
 },
 "nbformat": 4,
 "nbformat_minor": 2
}
